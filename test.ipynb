{
 "cells": [
  {
   "cell_type": "code",
   "execution_count": 1,
   "source": [
    "import pyautogui, pynput, pandas, numpy, datetime, matplotlib.pyplot\r\n",
    "from Autotesting import AutoMQT\r\n",
    "AutoMQT()"
   ],
   "outputs": [
    {
     "output_type": "stream",
     "name": "stdout",
     "text": [
      "\n",
      "Welcome. Please, open your MetaTrader 4 platform.\n",
      "Be sure to follow the upcoming instructions carefully...\n",
      "Open MT4 and press CTRL to begin.\n",
      " Key: <DELETE> - Process ended: you can now close this window.\n"
     ]
    },
    {
     "output_type": "execute_result",
     "data": {
      "text/plain": [
       "<Autotesting.AutoMQT at 0x2587e8cea90>"
      ]
     },
     "metadata": {},
     "execution_count": 1
    }
   ],
   "metadata": {}
  },
  {
   "cell_type": "code",
   "execution_count": 2,
   "source": [
    "pyautogui.position()"
   ],
   "outputs": [
    {
     "output_type": "execute_result",
     "data": {
      "text/plain": [
       "Point(x=845, y=91)"
      ]
     },
     "metadata": {},
     "execution_count": 2
    }
   ],
   "metadata": {}
  },
  {
   "cell_type": "code",
   "execution_count": null,
   "source": [],
   "outputs": [],
   "metadata": {}
  }
 ],
 "metadata": {
  "orig_nbformat": 4,
  "language_info": {
   "name": "python",
   "version": "3.9.5",
   "mimetype": "text/x-python",
   "codemirror_mode": {
    "name": "ipython",
    "version": 3
   },
   "pygments_lexer": "ipython3",
   "nbconvert_exporter": "python",
   "file_extension": ".py"
  },
  "kernelspec": {
   "name": "python3",
   "display_name": "Python 3.9.5 64-bit (conda)"
  },
  "interpreter": {
   "hash": "0b4457db261fbfa85a925bb2228fb9bdea7a2f8ac3a304c1cd75844b971ec29d"
  }
 },
 "nbformat": 4,
 "nbformat_minor": 2
}